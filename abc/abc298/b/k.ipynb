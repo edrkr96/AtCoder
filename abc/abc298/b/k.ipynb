{
 "cells": [
  {
   "cell_type": "code",
   "execution_count": 2,
   "metadata": {},
   "outputs": [
    {
     "ename": "ValueError",
     "evalue": "invalid literal for int() with base 10: '3 0 1 1 1 0 0 0 1 0 1 1 0 0 0 1 1 1 1'",
     "output_type": "error",
     "traceback": [
      "\u001b[0;31m---------------------------------------------------------------------------\u001b[0m",
      "\u001b[0;31mValueError\u001b[0m                                Traceback (most recent call last)",
      "\u001b[1;32m/Users/morierika/Library/Preferences/atcoder-cli-nodejs/abc298/b/k.ipynb セル 1\u001b[0m in \u001b[0;36m<module>\u001b[0;34m\u001b[0m\n\u001b[1;32m      <a href='vscode-notebook-cell:/Users/morierika/Library/Preferences/atcoder-cli-nodejs/abc298/b/k.ipynb#W0sZmlsZQ%3D%3D?line=0'>1</a>\u001b[0m \u001b[39mimport\u001b[39;00m \u001b[39mcopy\u001b[39;00m\n\u001b[0;32m----> <a href='vscode-notebook-cell:/Users/morierika/Library/Preferences/atcoder-cli-nodejs/abc298/b/k.ipynb#W0sZmlsZQ%3D%3D?line=1'>2</a>\u001b[0m n \u001b[39m=\u001b[39m \u001b[39mint\u001b[39;49m(\u001b[39minput\u001b[39;49m())\n\u001b[1;32m      <a href='vscode-notebook-cell:/Users/morierika/Library/Preferences/atcoder-cli-nodejs/abc298/b/k.ipynb#W0sZmlsZQ%3D%3D?line=2'>3</a>\u001b[0m a \u001b[39m=\u001b[39m [\u001b[39minput\u001b[39m()\u001b[39m.\u001b[39msplit() \u001b[39mfor\u001b[39;00m _ \u001b[39min\u001b[39;00m \u001b[39mrange\u001b[39m(n)]\n\u001b[1;32m      <a href='vscode-notebook-cell:/Users/morierika/Library/Preferences/atcoder-cli-nodejs/abc298/b/k.ipynb#W0sZmlsZQ%3D%3D?line=3'>4</a>\u001b[0m b \u001b[39m=\u001b[39m [\u001b[39minput\u001b[39m()\u001b[39m.\u001b[39msplit() \u001b[39mfor\u001b[39;00m _ \u001b[39min\u001b[39;00m \u001b[39mrange\u001b[39m(n)]\n",
      "\u001b[0;31mValueError\u001b[0m: invalid literal for int() with base 10: '3 0 1 1 1 0 0 0 1 0 1 1 0 0 0 1 1 1 1'"
     ]
    }
   ],
   "source": [
    "import copy\n",
    "n = int(input())\n",
    "a = [input().split() for _ in range(n)]\n",
    "b = [input().split() for _ in range(n)]\n",
    "cnt = 0\n",
    "count = 0\n",
    "flag = False\n",
    "skip = False\n",
    "\n",
    "for i in range(n):\n",
    "  for j in range(n):\n",
    "     if a[i][j] == '1':\n",
    "      cnt += 1\n",
    "      if a[i][j] == b[i][j]:\n",
    "        count += 1\n",
    "if cnt == 0:\n",
    "    flag = True\n",
    "    skip = True\n",
    "if cnt == count:\n",
    "    flag = True\n",
    "    skip = True\n",
    "\n",
    "if not skip:\n",
    "  for k in range(3):\n",
    "    cnt = 0\n",
    "    count = 0\n",
    "    tmp = copy.deepcopy(a)\n",
    "    for i in range(n):\n",
    "      for j in range(n):\n",
    "        a[i][j] = tmp[n-1-j][i]\n",
    "        if a[i][j] == '1':\n",
    "          cnt += 1\n",
    "          if a[i][j] == b[i][j]:\n",
    "            count += 1\n",
    "    #print(cnt, count)\n",
    "    #print(a)\n",
    "    if cnt == count:\n",
    "      flag = True\n",
    "      break\n",
    "    \n",
    "if flag:\n",
    "  print(\"Yes\")\n",
    "else:\n",
    "  print(\"No\")"
   ]
  }
 ],
 "metadata": {
  "kernelspec": {
   "display_name": "Python 3",
   "language": "python",
   "name": "python3"
  },
  "language_info": {
   "codemirror_mode": {
    "name": "ipython",
    "version": 3
   },
   "file_extension": ".py",
   "mimetype": "text/x-python",
   "name": "python",
   "nbconvert_exporter": "python",
   "pygments_lexer": "ipython3",
   "version": "3.9.1"
  },
  "orig_nbformat": 4
 },
 "nbformat": 4,
 "nbformat_minor": 2
}
